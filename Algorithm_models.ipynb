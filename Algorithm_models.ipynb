{
 "cells": [
  {
   "cell_type": "markdown",
   "metadata": {},
   "source": [
    "# Applying Algorithm"
   ]
  },
  {
   "cell_type": "code",
   "execution_count": 29,
   "metadata": {
    "collapsed": true
   },
   "outputs": [],
   "source": [
    "from numpy import array\n",
    "import pandas as pd"
   ]
  },
  {
   "cell_type": "code",
   "execution_count": 30,
   "metadata": {
    "collapsed": true
   },
   "outputs": [],
   "source": [
    "train_dataset=pd.read_csv('train_dataset.csv')\n",
    "test_dataset=pd.read_csv('test_dataset.csv')"
   ]
  },
  {
   "cell_type": "markdown",
   "metadata": {},
   "source": [
    "Python libraries imported to read train and test dataset csv files "
   ]
  },
  {
   "cell_type": "code",
   "execution_count": 31,
   "metadata": {
    "scrolled": true
   },
   "outputs": [
    {
     "name": "stdout",
     "output_type": "stream",
     "text": [
      "<class 'pandas.core.frame.DataFrame'>\n",
      "RangeIndex: 16500 entries, 0 to 16499\n",
      "Data columns (total 23 columns):\n",
      "Unnamed: 0                16500 non-null int64\n",
      "House ID                  16500 non-null float64\n",
      "bathrooms                 15536 non-null float64\n",
      "bedrooms                  15851 non-null float64\n",
      "blessings                 16500 non-null float64\n",
      "builder                   15352 non-null float64\n",
      "capital_distance          15669 non-null float64\n",
      "dateb                     16500 non-null float64\n",
      "datep                     16500 non-null float64\n",
      "dining_rooms              14862 non-null float64\n",
      "dock_distance             14859 non-null float64\n",
      "farm                      16500 non-null float64\n",
      "garden                    14515 non-null float64\n",
      "holy_tree                 13234 non-null float64\n",
      "king_visited              16500 non-null float64\n",
      "knights_house_distance    15669 non-null float64\n",
      "location                  14829 non-null float64\n",
      "renovation                14871 non-null float64\n",
      "river_distance            16500 non-null float64\n",
      "royal_market              14146 non-null float64\n",
      "sorcerer_cursed           15502 non-null float64\n",
      "tower_distance            15956 non-null float64\n",
      "Golden Grains             16500 non-null float64\n",
      "dtypes: float64(22), int64(1)\n",
      "memory usage: 2.9 MB\n",
      "<class 'pandas.core.frame.DataFrame'>\n",
      "RangeIndex: 16500 entries, 0 to 16499\n",
      "Data columns (total 23 columns):\n",
      "Unnamed: 0                16500 non-null int64\n",
      "House ID                  16500 non-null float64\n",
      "bathrooms                 16500 non-null float64\n",
      "bedrooms                  16500 non-null float64\n",
      "blessings                 16500 non-null float64\n",
      "builder                   16500 non-null float64\n",
      "capital_distance          16500 non-null float64\n",
      "dateb                     16500 non-null float64\n",
      "datep                     16500 non-null float64\n",
      "dining_rooms              16500 non-null float64\n",
      "dock_distance             16500 non-null float64\n",
      "farm                      16500 non-null float64\n",
      "garden                    16500 non-null float64\n",
      "holy_tree                 16500 non-null float64\n",
      "king_visited              16500 non-null float64\n",
      "knights_house_distance    16500 non-null float64\n",
      "location                  16500 non-null float64\n",
      "renovation                16500 non-null float64\n",
      "river_distance            16500 non-null float64\n",
      "royal_market              16500 non-null float64\n",
      "sorcerer_cursed           16500 non-null float64\n",
      "tower_distance            16500 non-null float64\n",
      "Golden Grains             16500 non-null float64\n",
      "dtypes: float64(22), int64(1)\n",
      "memory usage: 2.9 MB\n"
     ]
    }
   ],
   "source": [
    "train_dataset.info()\n",
    "train_dataset2=train_dataset.fillna(train_dataset.mean())\n",
    "train_dataset2.info()"
   ]
  },
  {
   "cell_type": "markdown",
   "metadata": {},
   "source": [
    "Missing datas having Nan values were filled using mean in train dataset"
   ]
  },
  {
   "cell_type": "code",
   "execution_count": 32,
   "metadata": {},
   "outputs": [
    {
     "name": "stdout",
     "output_type": "stream",
     "text": [
      "<class 'pandas.core.frame.DataFrame'>\n",
      "RangeIndex: 3500 entries, 0 to 3499\n",
      "Data columns (total 23 columns):\n",
      "Unnamed: 0                3500 non-null int64\n",
      "House ID                  3500 non-null float64\n",
      "bathrooms                 3298 non-null float64\n",
      "bedrooms                  3374 non-null float64\n",
      "blessings                 3500 non-null float64\n",
      "builder                   3255 non-null float64\n",
      "capital_distance          3316 non-null float64\n",
      "dateb                     3500 non-null float64\n",
      "datep                     3500 non-null float64\n",
      "dining_rooms              3148 non-null float64\n",
      "dock_distance             3121 non-null float64\n",
      "farm                      3500 non-null float64\n",
      "garden                    3071 non-null float64\n",
      "holy_tree                 2796 non-null float64\n",
      "king_visited              3500 non-null float64\n",
      "knights_house_distance    3316 non-null float64\n",
      "location                  3134 non-null float64\n",
      "renovation                3136 non-null float64\n",
      "river_distance            3500 non-null float64\n",
      "royal_market              3029 non-null float64\n",
      "sorcerer_cursed           3276 non-null float64\n",
      "tower_distance            3410 non-null float64\n",
      "Golden Grains             0 non-null float64\n",
      "dtypes: float64(22), int64(1)\n",
      "memory usage: 629.0 KB\n",
      "<class 'pandas.core.frame.DataFrame'>\n",
      "RangeIndex: 3500 entries, 0 to 3499\n",
      "Data columns (total 23 columns):\n",
      "Unnamed: 0                3500 non-null int64\n",
      "House ID                  3500 non-null float64\n",
      "bathrooms                 3500 non-null float64\n",
      "bedrooms                  3500 non-null float64\n",
      "blessings                 3500 non-null float64\n",
      "builder                   3500 non-null float64\n",
      "capital_distance          3500 non-null float64\n",
      "dateb                     3500 non-null float64\n",
      "datep                     3500 non-null float64\n",
      "dining_rooms              3500 non-null float64\n",
      "dock_distance             3500 non-null float64\n",
      "farm                      3500 non-null float64\n",
      "garden                    3500 non-null float64\n",
      "holy_tree                 3500 non-null float64\n",
      "king_visited              3500 non-null float64\n",
      "knights_house_distance    3500 non-null float64\n",
      "location                  3500 non-null float64\n",
      "renovation                3500 non-null float64\n",
      "river_distance            3500 non-null float64\n",
      "royal_market              3500 non-null float64\n",
      "sorcerer_cursed           3500 non-null float64\n",
      "tower_distance            3500 non-null float64\n",
      "Golden Grains             0 non-null float64\n",
      "dtypes: float64(22), int64(1)\n",
      "memory usage: 629.0 KB\n"
     ]
    }
   ],
   "source": [
    "#test_dataset1=test_dataset.set_index('House ID')\n",
    "#test_dataset.interpolate(method='barycentric',inplace=True)\n",
    "test_dataset.info()\n",
    "test_dataset2=test_dataset.fillna(test_dataset.mean())\n",
    "test_dataset2.info()"
   ]
  },
  {
   "cell_type": "markdown",
   "metadata": {},
   "source": [
    "Missing datas having Nan values were filled using mean in test dataset"
   ]
  },
  {
   "cell_type": "code",
   "execution_count": 33,
   "metadata": {},
   "outputs": [
    {
     "data": {
      "text/html": [
       "<div>\n",
       "<style>\n",
       "    .dataframe thead tr:only-child th {\n",
       "        text-align: right;\n",
       "    }\n",
       "\n",
       "    .dataframe thead th {\n",
       "        text-align: left;\n",
       "    }\n",
       "\n",
       "    .dataframe tbody tr th {\n",
       "        vertical-align: top;\n",
       "    }\n",
       "</style>\n",
       "<table border=\"1\" class=\"dataframe\">\n",
       "  <thead>\n",
       "    <tr style=\"text-align: right;\">\n",
       "      <th></th>\n",
       "      <th>Unnamed: 0</th>\n",
       "      <th>House ID</th>\n",
       "      <th>bathrooms</th>\n",
       "      <th>bedrooms</th>\n",
       "      <th>blessings</th>\n",
       "      <th>builder</th>\n",
       "      <th>capital_distance</th>\n",
       "      <th>dateb</th>\n",
       "      <th>datep</th>\n",
       "      <th>dining_rooms</th>\n",
       "      <th>...</th>\n",
       "      <th>holy_tree</th>\n",
       "      <th>king_visited</th>\n",
       "      <th>knights_house_distance</th>\n",
       "      <th>location</th>\n",
       "      <th>renovation</th>\n",
       "      <th>river_distance</th>\n",
       "      <th>royal_market</th>\n",
       "      <th>sorcerer_cursed</th>\n",
       "      <th>tower_distance</th>\n",
       "      <th>Golden Grains</th>\n",
       "    </tr>\n",
       "  </thead>\n",
       "  <tbody>\n",
       "    <tr>\n",
       "      <th>0</th>\n",
       "      <td>0</td>\n",
       "      <td>1.848823e+09</td>\n",
       "      <td>3.007209</td>\n",
       "      <td>4.000000</td>\n",
       "      <td>160.0</td>\n",
       "      <td>0.000000</td>\n",
       "      <td>0.256239</td>\n",
       "      <td>584875.0</td>\n",
       "      <td>587511.0</td>\n",
       "      <td>3.0</td>\n",
       "      <td>...</td>\n",
       "      <td>1.000000</td>\n",
       "      <td>0.0</td>\n",
       "      <td>10.505662</td>\n",
       "      <td>3.000000</td>\n",
       "      <td>0.0</td>\n",
       "      <td>63.109038</td>\n",
       "      <td>69.486467</td>\n",
       "      <td>0.0</td>\n",
       "      <td>14.394903</td>\n",
       "      <td>1470912.0</td>\n",
       "    </tr>\n",
       "    <tr>\n",
       "      <th>1</th>\n",
       "      <td>1</td>\n",
       "      <td>1.848823e+09</td>\n",
       "      <td>3.007209</td>\n",
       "      <td>4.000000</td>\n",
       "      <td>133.0</td>\n",
       "      <td>8.000000</td>\n",
       "      <td>26.882222</td>\n",
       "      <td>584271.0</td>\n",
       "      <td>588537.0</td>\n",
       "      <td>2.0</td>\n",
       "      <td>...</td>\n",
       "      <td>0.870107</td>\n",
       "      <td>1.0</td>\n",
       "      <td>37.249456</td>\n",
       "      <td>0.000000</td>\n",
       "      <td>0.0</td>\n",
       "      <td>53.249336</td>\n",
       "      <td>34.145238</td>\n",
       "      <td>0.0</td>\n",
       "      <td>101.052598</td>\n",
       "      <td>1241030.0</td>\n",
       "    </tr>\n",
       "    <tr>\n",
       "      <th>2</th>\n",
       "      <td>2</td>\n",
       "      <td>1.848823e+09</td>\n",
       "      <td>2.000000</td>\n",
       "      <td>3.001514</td>\n",
       "      <td>24.0</td>\n",
       "      <td>4.003192</td>\n",
       "      <td>136.448973</td>\n",
       "      <td>584160.0</td>\n",
       "      <td>587116.0</td>\n",
       "      <td>3.0</td>\n",
       "      <td>...</td>\n",
       "      <td>1.000000</td>\n",
       "      <td>0.0</td>\n",
       "      <td>146.553349</td>\n",
       "      <td>0.993998</td>\n",
       "      <td>0.0</td>\n",
       "      <td>72.245533</td>\n",
       "      <td>78.445508</td>\n",
       "      <td>0.0</td>\n",
       "      <td>88.480988</td>\n",
       "      <td>838723.0</td>\n",
       "    </tr>\n",
       "    <tr>\n",
       "      <th>3</th>\n",
       "      <td>3</td>\n",
       "      <td>1.848824e+09</td>\n",
       "      <td>2.000000</td>\n",
       "      <td>2.000000</td>\n",
       "      <td>140.0</td>\n",
       "      <td>4.000000</td>\n",
       "      <td>19.885265</td>\n",
       "      <td>585167.0</td>\n",
       "      <td>588206.0</td>\n",
       "      <td>2.0</td>\n",
       "      <td>...</td>\n",
       "      <td>0.870107</td>\n",
       "      <td>0.0</td>\n",
       "      <td>29.921162</td>\n",
       "      <td>0.000000</td>\n",
       "      <td>0.0</td>\n",
       "      <td>8.059939</td>\n",
       "      <td>92.698917</td>\n",
       "      <td>0.0</td>\n",
       "      <td>22.395136</td>\n",
       "      <td>1267804.0</td>\n",
       "    </tr>\n",
       "    <tr>\n",
       "      <th>4</th>\n",
       "      <td>4</td>\n",
       "      <td>1.848824e+09</td>\n",
       "      <td>2.000000</td>\n",
       "      <td>2.000000</td>\n",
       "      <td>159.0</td>\n",
       "      <td>3.000000</td>\n",
       "      <td>0.519507</td>\n",
       "      <td>585131.0</td>\n",
       "      <td>587968.0</td>\n",
       "      <td>3.0</td>\n",
       "      <td>...</td>\n",
       "      <td>1.000000</td>\n",
       "      <td>0.0</td>\n",
       "      <td>10.855780</td>\n",
       "      <td>0.000000</td>\n",
       "      <td>0.0</td>\n",
       "      <td>35.706541</td>\n",
       "      <td>3.605055</td>\n",
       "      <td>0.0</td>\n",
       "      <td>81.449646</td>\n",
       "      <td>1497166.0</td>\n",
       "    </tr>\n",
       "  </tbody>\n",
       "</table>\n",
       "<p>5 rows × 23 columns</p>\n",
       "</div>"
      ],
      "text/plain": [
       "   Unnamed: 0      House ID  bathrooms  bedrooms  blessings   builder  \\\n",
       "0           0  1.848823e+09   3.007209  4.000000      160.0  0.000000   \n",
       "1           1  1.848823e+09   3.007209  4.000000      133.0  8.000000   \n",
       "2           2  1.848823e+09   2.000000  3.001514       24.0  4.003192   \n",
       "3           3  1.848824e+09   2.000000  2.000000      140.0  4.000000   \n",
       "4           4  1.848824e+09   2.000000  2.000000      159.0  3.000000   \n",
       "\n",
       "   capital_distance     dateb     datep  dining_rooms      ...        \\\n",
       "0          0.256239  584875.0  587511.0           3.0      ...         \n",
       "1         26.882222  584271.0  588537.0           2.0      ...         \n",
       "2        136.448973  584160.0  587116.0           3.0      ...         \n",
       "3         19.885265  585167.0  588206.0           2.0      ...         \n",
       "4          0.519507  585131.0  587968.0           3.0      ...         \n",
       "\n",
       "   holy_tree  king_visited  knights_house_distance  location  renovation  \\\n",
       "0   1.000000           0.0               10.505662  3.000000         0.0   \n",
       "1   0.870107           1.0               37.249456  0.000000         0.0   \n",
       "2   1.000000           0.0              146.553349  0.993998         0.0   \n",
       "3   0.870107           0.0               29.921162  0.000000         0.0   \n",
       "4   1.000000           0.0               10.855780  0.000000         0.0   \n",
       "\n",
       "   river_distance  royal_market  sorcerer_cursed  tower_distance  \\\n",
       "0       63.109038     69.486467              0.0       14.394903   \n",
       "1       53.249336     34.145238              0.0      101.052598   \n",
       "2       72.245533     78.445508              0.0       88.480988   \n",
       "3        8.059939     92.698917              0.0       22.395136   \n",
       "4       35.706541      3.605055              0.0       81.449646   \n",
       "\n",
       "   Golden Grains  \n",
       "0      1470912.0  \n",
       "1      1241030.0  \n",
       "2       838723.0  \n",
       "3      1267804.0  \n",
       "4      1497166.0  \n",
       "\n",
       "[5 rows x 23 columns]"
      ]
     },
     "execution_count": 33,
     "metadata": {},
     "output_type": "execute_result"
    }
   ],
   "source": [
    "train_dataset2.head()"
   ]
  },
  {
   "cell_type": "code",
   "execution_count": 34,
   "metadata": {
    "collapsed": true
   },
   "outputs": [],
   "source": [
    "features=['dateb','datep','garden','dock_distance','royal_market','capital_distance','tower_distance','builder','river_distance','dining_rooms','bedrooms','bathrooms','king_visited','renovation','blessings','farm','location','sorcerer_cursed','knights_house_distance','holy_tree']\n",
    "features1=['dateb','datep','dock_distance','builder','royal_market','capital_distance','tower_distance','river_distance','dining_rooms','bedrooms','bathrooms','king_visited','blessings','farm','location','sorcerer_cursed','knights_house_distance','holy_tree']"
   ]
  },
  {
   "cell_type": "markdown",
   "metadata": {},
   "source": [
    "'features' contains all the features of the train dataset and 'features1' contains all the festures excluding those we dropped\n",
    "for eg-garden,houseId,builder,renovation."
   ]
  },
  {
   "cell_type": "code",
   "execution_count": 35,
   "metadata": {},
   "outputs": [
    {
     "name": "stdout",
     "output_type": "stream",
     "text": [
      "mean score is 0.943112614318\n",
      "time by LR is  0.18\n"
     ]
    }
   ],
   "source": [
    "from sklearn.model_selection import cross_val_score\n",
    "from sklearn.linear_model import LinearRegression\n",
    "from time import time\n",
    "\n",
    "traind_x=train_dataset2[features1]\n",
    "traind_y=train_dataset2['Golden Grains']\n",
    "t0=time()\n",
    "model=LinearRegression(normalize=False)\n",
    "scores=cross_val_score(model,traind_x,traind_y,cv=5,scoring='r2')\n",
    "print('mean score is',scores.mean())\n",
    "print('time by LR is ',round(time()-t0,2))"
   ]
  },
  {
   "cell_type": "markdown",
   "metadata": {},
   "source": [
    "Applying Linear Regression with cross validation mean score of 94.311 was obtained within 0.18 seconds time"
   ]
  },
  {
   "cell_type": "code",
   "execution_count": 36,
   "metadata": {},
   "outputs": [
    {
     "name": "stdout",
     "output_type": "stream",
     "text": [
      "mean score is 0.968622305065\n",
      "time by GBR is  17.13\n"
     ]
    }
   ],
   "source": [
    "from sklearn.ensemble import GradientBoostingRegressor\n",
    "t0=time()\n",
    "model1=GradientBoostingRegressor()\n",
    "scores=cross_val_score(model1,traind_x,traind_y,cv=5,scoring='r2')\n",
    "print('mean score is',scores.mean())\n",
    "print('time by GBR is ',round(time()-t0,2))"
   ]
  },
  {
   "cell_type": "markdown",
   "metadata": {},
   "source": [
    "Applying Gradient Boosting with cross validation without parameter tuning mean score of 96.862 was obtained with 17.13 seconds time\n",
    "It can be observed that this algorithm is taking more time but is increasing the accuracy"
   ]
  },
  {
   "cell_type": "code",
   "execution_count": 37,
   "metadata": {},
   "outputs": [
    {
     "name": "stdout",
     "output_type": "stream",
     "text": [
      "mean score is 0.994703235998\n",
      "time by GBR is  47.78\n"
     ]
    }
   ],
   "source": [
    "from sklearn.ensemble import GradientBoostingRegressor\n",
    "t0=time()\n",
    "model2=GradientBoostingRegressor(n_estimators=300)\n",
    "scores=cross_val_score(model2,traind_x,traind_y,cv=5,scoring='r2')\n",
    "print('mean score is',scores.mean())\n",
    "print('time by GBR is ',round(time()-t0,2))"
   ]
  },
  {
   "cell_type": "markdown",
   "metadata": {},
   "source": [
    "We can observe that by tuning parameters mean score increased"
   ]
  },
  {
   "cell_type": "code",
   "execution_count": 38,
   "metadata": {},
   "outputs": [
    {
     "name": "stdout",
     "output_type": "stream",
     "text": [
      "mean score is 0.995416091841\n",
      "time by GBR is  54.58\n"
     ]
    }
   ],
   "source": [
    "t0=time()\n",
    "model3=GradientBoostingRegressor(n_estimators=350)\n",
    "scores=cross_val_score(model3,traind_x,traind_y,cv=5,scoring='r2')\n",
    "print('mean score is',scores.mean())\n",
    "print('time by GBR is ',round(time()-t0,2))"
   ]
  },
  {
   "cell_type": "markdown",
   "metadata": {},
   "source": [
    "Here the change in mean score by increasing the n_estimators is less and also more number of n_estimators is increasing our time \n",
    "and hence its better to keep n_estimators to 300 and test this for our final answer"
   ]
  },
  {
   "cell_type": "code",
   "execution_count": 39,
   "metadata": {},
   "outputs": [
    {
     "name": "stdout",
     "output_type": "stream",
     "text": [
      "0.991647240201\n"
     ]
    }
   ],
   "source": [
    "from sklearn import metrics\n",
    "testd_x=test_dataset2[features1]\n",
    "model2.fit(traind_x,traind_y)\n",
    "prediction=model2.predict(testd_x)\n",
    "sol=pd.read_csv('solution.csv')\n",
    "sol.drop('House ID',axis=1,inplace=True)\n",
    "score=metrics.r2_score(prediction,sol)\n",
    "print(score)"
   ]
  },
  {
   "cell_type": "markdown",
   "metadata": {},
   "source": [
    "fitting Gradient Boosting with n_estimators 300 and predicting for test data and comparing with answer we get final score"
   ]
  },
  {
   "cell_type": "code",
   "execution_count": 40,
   "metadata": {
    "collapsed": true
   },
   "outputs": [],
   "source": [
    "raw_data={'Golden_grains' : prediction}\n",
    "df = pd.DataFrame(raw_data, columns = ['Golden_grains'])\n",
    "df.to_csv('housingprices_ans.csv')"
   ]
  },
  {
   "cell_type": "markdown",
   "metadata": {
    "collapsed": true
   },
   "source": [
    "We finally obtain the housingprices_ans as our solution in csv format"
   ]
  }
 ],
 "metadata": {
  "kernelspec": {
   "display_name": "Python 3",
   "language": "python",
   "name": "python3"
  },
  "language_info": {
   "codemirror_mode": {
    "name": "ipython",
    "version": 3
   },
   "file_extension": ".py",
   "mimetype": "text/x-python",
   "name": "python",
   "nbconvert_exporter": "python",
   "pygments_lexer": "ipython3",
   "version": "3.6.3"
  }
 },
 "nbformat": 4,
 "nbformat_minor": 2
}
